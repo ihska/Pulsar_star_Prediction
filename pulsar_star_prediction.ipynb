{
 "cells": [
  {
   "cell_type": "code",
   "execution_count": 1,
   "metadata": {
    "id": "plu2vCTVp0iD"
   },
   "outputs": [],
   "source": [
    "import pandas as pd\n",
    "import numpy as np\n",
    "import matplotlib.pyplot as plt\n",
    "import warnings "
   ]
  },
  {
   "cell_type": "code",
   "execution_count": 5,
   "metadata": {},
   "outputs": [],
   "source": [
    "df=pd.read_csv(\"C:\\\\Users\\\\91701\\\\Documents\\\\Datasets\\\\SVM.csv\")"
   ]
  },
  {
   "cell_type": "code",
   "execution_count": 6,
   "metadata": {},
   "outputs": [
    {
     "data": {
      "text/html": [
       "<div>\n",
       "<style scoped>\n",
       "    .dataframe tbody tr th:only-of-type {\n",
       "        vertical-align: middle;\n",
       "    }\n",
       "\n",
       "    .dataframe tbody tr th {\n",
       "        vertical-align: top;\n",
       "    }\n",
       "\n",
       "    .dataframe thead th {\n",
       "        text-align: right;\n",
       "    }\n",
       "</style>\n",
       "<table border=\"1\" class=\"dataframe\">\n",
       "  <thead>\n",
       "    <tr style=\"text-align: right;\">\n",
       "      <th></th>\n",
       "      <th>Mean of the integrated profile</th>\n",
       "      <th>Standard deviation of the integrated profile</th>\n",
       "      <th>Excess kurtosis of the integrated profile</th>\n",
       "      <th>Skewness of the integrated profile</th>\n",
       "      <th>Mean of the DM-SNR curve</th>\n",
       "      <th>Standard deviation of the DM-SNR curve</th>\n",
       "      <th>Excess kurtosis of the DM-SNR curve</th>\n",
       "      <th>Skewness of the DM-SNR curve</th>\n",
       "      <th>target_class</th>\n",
       "    </tr>\n",
       "  </thead>\n",
       "  <tbody>\n",
       "    <tr>\n",
       "      <th>0</th>\n",
       "      <td>121.156250</td>\n",
       "      <td>48.372971</td>\n",
       "      <td>0.375485</td>\n",
       "      <td>-0.013165</td>\n",
       "      <td>3.168896</td>\n",
       "      <td>18.399367</td>\n",
       "      <td>7.449874</td>\n",
       "      <td>65.159298</td>\n",
       "      <td>0.0</td>\n",
       "    </tr>\n",
       "    <tr>\n",
       "      <th>1</th>\n",
       "      <td>76.968750</td>\n",
       "      <td>36.175557</td>\n",
       "      <td>0.712898</td>\n",
       "      <td>3.388719</td>\n",
       "      <td>2.399666</td>\n",
       "      <td>17.570997</td>\n",
       "      <td>9.414652</td>\n",
       "      <td>102.722975</td>\n",
       "      <td>0.0</td>\n",
       "    </tr>\n",
       "    <tr>\n",
       "      <th>2</th>\n",
       "      <td>130.585938</td>\n",
       "      <td>53.229534</td>\n",
       "      <td>0.133408</td>\n",
       "      <td>-0.297242</td>\n",
       "      <td>2.743311</td>\n",
       "      <td>22.362553</td>\n",
       "      <td>8.508364</td>\n",
       "      <td>74.031324</td>\n",
       "      <td>0.0</td>\n",
       "    </tr>\n",
       "    <tr>\n",
       "      <th>3</th>\n",
       "      <td>156.398438</td>\n",
       "      <td>48.865942</td>\n",
       "      <td>-0.215989</td>\n",
       "      <td>-0.171294</td>\n",
       "      <td>17.471572</td>\n",
       "      <td>NaN</td>\n",
       "      <td>2.958066</td>\n",
       "      <td>7.197842</td>\n",
       "      <td>0.0</td>\n",
       "    </tr>\n",
       "    <tr>\n",
       "      <th>4</th>\n",
       "      <td>84.804688</td>\n",
       "      <td>36.117659</td>\n",
       "      <td>0.825013</td>\n",
       "      <td>3.274125</td>\n",
       "      <td>2.790134</td>\n",
       "      <td>20.618009</td>\n",
       "      <td>8.405008</td>\n",
       "      <td>76.291128</td>\n",
       "      <td>0.0</td>\n",
       "    </tr>\n",
       "  </tbody>\n",
       "</table>\n",
       "</div>"
      ],
      "text/plain": [
       "    Mean of the integrated profile  \\\n",
       "0                       121.156250   \n",
       "1                        76.968750   \n",
       "2                       130.585938   \n",
       "3                       156.398438   \n",
       "4                        84.804688   \n",
       "\n",
       "    Standard deviation of the integrated profile  \\\n",
       "0                                      48.372971   \n",
       "1                                      36.175557   \n",
       "2                                      53.229534   \n",
       "3                                      48.865942   \n",
       "4                                      36.117659   \n",
       "\n",
       "    Excess kurtosis of the integrated profile  \\\n",
       "0                                    0.375485   \n",
       "1                                    0.712898   \n",
       "2                                    0.133408   \n",
       "3                                   -0.215989   \n",
       "4                                    0.825013   \n",
       "\n",
       "    Skewness of the integrated profile   Mean of the DM-SNR curve  \\\n",
       "0                            -0.013165                   3.168896   \n",
       "1                             3.388719                   2.399666   \n",
       "2                            -0.297242                   2.743311   \n",
       "3                            -0.171294                  17.471572   \n",
       "4                             3.274125                   2.790134   \n",
       "\n",
       "    Standard deviation of the DM-SNR curve  \\\n",
       "0                                18.399367   \n",
       "1                                17.570997   \n",
       "2                                22.362553   \n",
       "3                                      NaN   \n",
       "4                                20.618009   \n",
       "\n",
       "    Excess kurtosis of the DM-SNR curve   Skewness of the DM-SNR curve  \\\n",
       "0                              7.449874                      65.159298   \n",
       "1                              9.414652                     102.722975   \n",
       "2                              8.508364                      74.031324   \n",
       "3                              2.958066                       7.197842   \n",
       "4                              8.405008                      76.291128   \n",
       "\n",
       "   target_class  \n",
       "0           0.0  \n",
       "1           0.0  \n",
       "2           0.0  \n",
       "3           0.0  \n",
       "4           0.0  "
      ]
     },
     "execution_count": 6,
     "metadata": {},
     "output_type": "execute_result"
    }
   ],
   "source": [
    "df.head()"
   ]
  },
  {
   "cell_type": "code",
   "execution_count": null,
   "metadata": {},
   "outputs": [],
   "source": []
  },
  {
   "cell_type": "code",
   "execution_count": 8,
   "metadata": {},
   "outputs": [
    {
     "data": {
      "text/plain": [
       "(17898, 9)"
      ]
     },
     "execution_count": 8,
     "metadata": {},
     "output_type": "execute_result"
    }
   ],
   "source": [
    "df.shape"
   ]
  },
  {
   "cell_type": "code",
   "execution_count": 9,
   "metadata": {},
   "outputs": [
    {
     "name": "stdout",
     "output_type": "stream",
     "text": [
      "<class 'pandas.core.frame.DataFrame'>\n",
      "RangeIndex: 17898 entries, 0 to 17897\n",
      "Data columns (total 9 columns):\n",
      " #   Column                                         Non-Null Count  Dtype  \n",
      "---  ------                                         --------------  -----  \n",
      " 0    Mean of the integrated profile                17898 non-null  float64\n",
      " 1    Standard deviation of the integrated profile  17898 non-null  float64\n",
      " 2    Excess kurtosis of the integrated profile     15396 non-null  float64\n",
      " 3    Skewness of the integrated profile            17898 non-null  float64\n",
      " 4    Mean of the DM-SNR curve                      17898 non-null  float64\n",
      " 5    Standard deviation of the DM-SNR curve        16196 non-null  float64\n",
      " 6    Excess kurtosis of the DM-SNR curve           17898 non-null  float64\n",
      " 7    Skewness of the DM-SNR curve                  17029 non-null  float64\n",
      " 8   target_class                                   12528 non-null  float64\n",
      "dtypes: float64(9)\n",
      "memory usage: 1.2 MB\n"
     ]
    }
   ],
   "source": [
    "df.info()"
   ]
  },
  {
   "cell_type": "code",
   "execution_count": 11,
   "metadata": {},
   "outputs": [
    {
     "data": {
      "text/plain": [
       "Index([' Mean of the integrated profile',\n",
       "       ' Standard deviation of the integrated profile',\n",
       "       ' Excess kurtosis of the integrated profile',\n",
       "       ' Skewness of the integrated profile', ' Mean of the DM-SNR curve',\n",
       "       ' Standard deviation of the DM-SNR curve',\n",
       "       ' Excess kurtosis of the DM-SNR curve', ' Skewness of the DM-SNR curve',\n",
       "       'target_class'],\n",
       "      dtype='object')"
      ]
     },
     "execution_count": 11,
     "metadata": {},
     "output_type": "execute_result"
    }
   ],
   "source": [
    "df.columns"
   ]
  },
  {
   "cell_type": "code",
   "execution_count": 13,
   "metadata": {},
   "outputs": [
    {
     "data": {
      "text/plain": [
       " Mean of the integrated profile                  False\n",
       " Standard deviation of the integrated profile    False\n",
       " Excess kurtosis of the integrated profile        True\n",
       " Skewness of the integrated profile              False\n",
       " Mean of the DM-SNR curve                        False\n",
       " Standard deviation of the DM-SNR curve           True\n",
       " Excess kurtosis of the DM-SNR curve             False\n",
       " Skewness of the DM-SNR curve                     True\n",
       "target_class                                      True\n",
       "dtype: bool"
      ]
     },
     "execution_count": 13,
     "metadata": {},
     "output_type": "execute_result"
    }
   ],
   "source": [
    "df.isnull().any()"
   ]
  },
  {
   "cell_type": "code",
   "execution_count": 16,
   "metadata": {},
   "outputs": [],
   "source": [
    "from sklearn.preprocessing import LabelEncoder"
   ]
  },
  {
   "cell_type": "code",
   "execution_count": 17,
   "metadata": {},
   "outputs": [],
   "source": [
    "encoder=LabelEncoder()"
   ]
  },
  {
   "cell_type": "code",
   "execution_count": 20,
   "metadata": {},
   "outputs": [],
   "source": [
    "for col in df.columns:\n",
    "    # Check if the column dtype is object (categorical)\n",
    "    if df[col].dtype == 'object':\n",
    "        # Use LabelEncoder to encode categorical variables\n",
    "        df[col] = encoder.fit_transform(df[col])"
   ]
  },
  {
   "cell_type": "code",
   "execution_count": 23,
   "metadata": {},
   "outputs": [
    {
     "data": {
      "text/plain": [
       " Mean of the integrated profile                  False\n",
       " Standard deviation of the integrated profile    False\n",
       " Excess kurtosis of the integrated profile        True\n",
       " Skewness of the integrated profile              False\n",
       " Mean of the DM-SNR curve                        False\n",
       " Standard deviation of the DM-SNR curve           True\n",
       " Excess kurtosis of the DM-SNR curve             False\n",
       " Skewness of the DM-SNR curve                     True\n",
       "target_class                                      True\n",
       "dtype: bool"
      ]
     },
     "execution_count": 23,
     "metadata": {},
     "output_type": "execute_result"
    }
   ],
   "source": [
    "df.isnull().any()"
   ]
  },
  {
   "cell_type": "code",
   "execution_count": 24,
   "metadata": {},
   "outputs": [
    {
     "name": "stdout",
     "output_type": "stream",
     "text": [
      " Mean of the integrated profile                     0\n",
      " Standard deviation of the integrated profile       0\n",
      " Excess kurtosis of the integrated profile       2502\n",
      " Skewness of the integrated profile                 0\n",
      " Mean of the DM-SNR curve                           0\n",
      " Standard deviation of the DM-SNR curve          1702\n",
      " Excess kurtosis of the DM-SNR curve                0\n",
      " Skewness of the DM-SNR curve                     869\n",
      "target_class                                     5370\n",
      "dtype: int64\n"
     ]
    }
   ],
   "source": [
    "missing_values = df.isnull().sum()\n",
    "print(missing_values)\n",
    "\n",
    "df.dropna(inplace=True)\n",
    "\n",
    "df.fillna(df.mean(), inplace=True)\n"
   ]
  },
  {
   "cell_type": "code",
   "execution_count": 27,
   "metadata": {},
   "outputs": [
    {
     "data": {
      "text/plain": [
       "Index([' Mean of the integrated profile',\n",
       "       ' Standard deviation of the integrated profile',\n",
       "       ' Excess kurtosis of the integrated profile',\n",
       "       ' Skewness of the integrated profile', ' Mean of the DM-SNR curve',\n",
       "       ' Standard deviation of the DM-SNR curve',\n",
       "       ' Excess kurtosis of the DM-SNR curve', ' Skewness of the DM-SNR curve',\n",
       "       'target_class'],\n",
       "      dtype='object')"
      ]
     },
     "execution_count": 27,
     "metadata": {},
     "output_type": "execute_result"
    }
   ],
   "source": [
    "df.columns"
   ]
  },
  {
   "cell_type": "code",
   "execution_count": 28,
   "metadata": {},
   "outputs": [],
   "source": [
    "df.columns = df.columns.str.strip()"
   ]
  },
  {
   "cell_type": "code",
   "execution_count": 29,
   "metadata": {},
   "outputs": [],
   "source": [
    "# Impute missing values with mean\n",
    "df['Excess kurtosis of the integrated profile'].fillna(df['Excess kurtosis of the integrated profile'].mean(), inplace=True)\n",
    "df['Standard deviation of the DM-SNR curve'].fillna(df['Standard deviation of the DM-SNR curve'].mean(), inplace=True)\n",
    "df['Skewness of the DM-SNR curve'].fillna(df['Skewness of the DM-SNR curve'].mean(), inplace=True)\n"
   ]
  },
  {
   "cell_type": "code",
   "execution_count": 30,
   "metadata": {},
   "outputs": [
    {
     "data": {
      "text/plain": [
       "Mean of the integrated profile                  0\n",
       "Standard deviation of the integrated profile    0\n",
       "Excess kurtosis of the integrated profile       0\n",
       "Skewness of the integrated profile              0\n",
       "Mean of the DM-SNR curve                        0\n",
       "Standard deviation of the DM-SNR curve          0\n",
       "Excess kurtosis of the DM-SNR curve             0\n",
       "Skewness of the DM-SNR curve                    0\n",
       "target_class                                    0\n",
       "dtype: int64"
      ]
     },
     "execution_count": 30,
     "metadata": {},
     "output_type": "execute_result"
    }
   ],
   "source": [
    "df.isnull().sum()"
   ]
  },
  {
   "cell_type": "code",
   "execution_count": 31,
   "metadata": {},
   "outputs": [
    {
     "name": "stdout",
     "output_type": "stream",
     "text": [
      "There are 0 categorical variables\n",
      "\n",
      "The categorical variables are :\n",
      "\n",
      " []\n"
     ]
    }
   ],
   "source": [
    "categorical = [var for var in df.columns if df[var].dtype=='O']\n",
    "\n",
    "print('There are {} categorical variables\\n'.format(len(categorical)))\n",
    "\n",
    "print('The categorical variables are :\\n\\n', categorical)"
   ]
  },
  {
   "cell_type": "code",
   "execution_count": 35,
   "metadata": {},
   "outputs": [
    {
     "name": "stdout",
     "output_type": "stream",
     "text": [
      "The numerical valus are \n",
      "The numerical values are  []\n"
     ]
    }
   ],
   "source": [
    "numerical=[var for var in df.columns if df[var].dtype=='int64']\n",
    "print('The numerical valus are '.format(len(numerical)))\n",
    "print('The numerical values are ',numerical)"
   ]
  },
  {
   "cell_type": "code",
   "execution_count": 69,
   "metadata": {},
   "outputs": [],
   "source": [
    "x = df.drop(columns=['target_class']) "
   ]
  },
  {
   "cell_type": "code",
   "execution_count": 70,
   "metadata": {},
   "outputs": [],
   "source": [
    "y = df['target_class']  "
   ]
  },
  {
   "cell_type": "code",
   "execution_count": 71,
   "metadata": {},
   "outputs": [],
   "source": [
    "from sklearn.model_selection import train_test_split"
   ]
  },
  {
   "cell_type": "code",
   "execution_count": 98,
   "metadata": {},
   "outputs": [],
   "source": [
    "x_train,x_test,y_train,y_test=train_test_split(x,y,random_state=40,test_size=0.42)"
   ]
  },
  {
   "cell_type": "code",
   "execution_count": 99,
   "metadata": {},
   "outputs": [
    {
     "data": {
      "text/html": [
       "<div>\n",
       "<style scoped>\n",
       "    .dataframe tbody tr th:only-of-type {\n",
       "        vertical-align: middle;\n",
       "    }\n",
       "\n",
       "    .dataframe tbody tr th {\n",
       "        vertical-align: top;\n",
       "    }\n",
       "\n",
       "    .dataframe thead th {\n",
       "        text-align: right;\n",
       "    }\n",
       "</style>\n",
       "<table border=\"1\" class=\"dataframe\">\n",
       "  <thead>\n",
       "    <tr style=\"text-align: right;\">\n",
       "      <th></th>\n",
       "      <th>Mean of the integrated profile</th>\n",
       "      <th>Standard deviation of the integrated profile</th>\n",
       "      <th>Excess kurtosis of the integrated profile</th>\n",
       "      <th>Skewness of the integrated profile</th>\n",
       "      <th>Mean of the DM-SNR curve</th>\n",
       "      <th>Standard deviation of the DM-SNR curve</th>\n",
       "      <th>Excess kurtosis of the DM-SNR curve</th>\n",
       "      <th>Skewness of the DM-SNR curve</th>\n",
       "    </tr>\n",
       "  </thead>\n",
       "  <tbody>\n",
       "    <tr>\n",
       "      <th>4023</th>\n",
       "      <td>116.726562</td>\n",
       "      <td>42.165729</td>\n",
       "      <td>0.161783</td>\n",
       "      <td>0.824544</td>\n",
       "      <td>2.300167</td>\n",
       "      <td>18.388670</td>\n",
       "      <td>9.215088</td>\n",
       "      <td>92.004504</td>\n",
       "    </tr>\n",
       "    <tr>\n",
       "      <th>1362</th>\n",
       "      <td>121.515625</td>\n",
       "      <td>56.701381</td>\n",
       "      <td>0.013689</td>\n",
       "      <td>-0.378919</td>\n",
       "      <td>2.831104</td>\n",
       "      <td>15.450046</td>\n",
       "      <td>7.803412</td>\n",
       "      <td>82.446000</td>\n",
       "    </tr>\n",
       "    <tr>\n",
       "      <th>6661</th>\n",
       "      <td>119.851562</td>\n",
       "      <td>48.075476</td>\n",
       "      <td>0.052308</td>\n",
       "      <td>0.068632</td>\n",
       "      <td>6.429766</td>\n",
       "      <td>34.034326</td>\n",
       "      <td>5.459486</td>\n",
       "      <td>29.390188</td>\n",
       "    </tr>\n",
       "    <tr>\n",
       "      <th>7532</th>\n",
       "      <td>85.015625</td>\n",
       "      <td>47.245864</td>\n",
       "      <td>1.387549</td>\n",
       "      <td>2.041650</td>\n",
       "      <td>53.247492</td>\n",
       "      <td>71.893739</td>\n",
       "      <td>0.890793</td>\n",
       "      <td>-0.742236</td>\n",
       "    </tr>\n",
       "    <tr>\n",
       "      <th>12284</th>\n",
       "      <td>108.953125</td>\n",
       "      <td>44.814001</td>\n",
       "      <td>0.363051</td>\n",
       "      <td>0.190178</td>\n",
       "      <td>2.012542</td>\n",
       "      <td>13.106549</td>\n",
       "      <td>10.479210</td>\n",
       "      <td>148.230161</td>\n",
       "    </tr>\n",
       "    <tr>\n",
       "      <th>...</th>\n",
       "      <td>...</td>\n",
       "      <td>...</td>\n",
       "      <td>...</td>\n",
       "      <td>...</td>\n",
       "      <td>...</td>\n",
       "      <td>...</td>\n",
       "      <td>...</td>\n",
       "      <td>...</td>\n",
       "    </tr>\n",
       "    <tr>\n",
       "      <th>10592</th>\n",
       "      <td>120.304688</td>\n",
       "      <td>47.724725</td>\n",
       "      <td>-0.035004</td>\n",
       "      <td>-0.248729</td>\n",
       "      <td>7.382943</td>\n",
       "      <td>31.274230</td>\n",
       "      <td>4.982387</td>\n",
       "      <td>25.803202</td>\n",
       "    </tr>\n",
       "    <tr>\n",
       "      <th>4846</th>\n",
       "      <td>139.015625</td>\n",
       "      <td>51.833264</td>\n",
       "      <td>-0.207793</td>\n",
       "      <td>-0.094389</td>\n",
       "      <td>2.980769</td>\n",
       "      <td>17.220500</td>\n",
       "      <td>7.931036</td>\n",
       "      <td>76.966708</td>\n",
       "    </tr>\n",
       "    <tr>\n",
       "      <th>8031</th>\n",
       "      <td>104.054688</td>\n",
       "      <td>44.103980</td>\n",
       "      <td>0.367658</td>\n",
       "      <td>0.446124</td>\n",
       "      <td>1.704849</td>\n",
       "      <td>15.672570</td>\n",
       "      <td>11.741040</td>\n",
       "      <td>156.239404</td>\n",
       "    </tr>\n",
       "    <tr>\n",
       "      <th>7299</th>\n",
       "      <td>102.570312</td>\n",
       "      <td>49.873227</td>\n",
       "      <td>0.451559</td>\n",
       "      <td>0.261429</td>\n",
       "      <td>2.708194</td>\n",
       "      <td>19.834288</td>\n",
       "      <td>8.078449</td>\n",
       "      <td>69.089674</td>\n",
       "    </tr>\n",
       "    <tr>\n",
       "      <th>10274</th>\n",
       "      <td>137.546875</td>\n",
       "      <td>44.289506</td>\n",
       "      <td>0.001308</td>\n",
       "      <td>0.558659</td>\n",
       "      <td>2.787625</td>\n",
       "      <td>22.710223</td>\n",
       "      <td>8.679637</td>\n",
       "      <td>77.288904</td>\n",
       "    </tr>\n",
       "  </tbody>\n",
       "</table>\n",
       "<p>5378 rows × 8 columns</p>\n",
       "</div>"
      ],
      "text/plain": [
       "       Mean of the integrated profile  \\\n",
       "4023                       116.726562   \n",
       "1362                       121.515625   \n",
       "6661                       119.851562   \n",
       "7532                        85.015625   \n",
       "12284                      108.953125   \n",
       "...                               ...   \n",
       "10592                      120.304688   \n",
       "4846                       139.015625   \n",
       "8031                       104.054688   \n",
       "7299                       102.570312   \n",
       "10274                      137.546875   \n",
       "\n",
       "       Standard deviation of the integrated profile  \\\n",
       "4023                                      42.165729   \n",
       "1362                                      56.701381   \n",
       "6661                                      48.075476   \n",
       "7532                                      47.245864   \n",
       "12284                                     44.814001   \n",
       "...                                             ...   \n",
       "10592                                     47.724725   \n",
       "4846                                      51.833264   \n",
       "8031                                      44.103980   \n",
       "7299                                      49.873227   \n",
       "10274                                     44.289506   \n",
       "\n",
       "       Excess kurtosis of the integrated profile  \\\n",
       "4023                                    0.161783   \n",
       "1362                                    0.013689   \n",
       "6661                                    0.052308   \n",
       "7532                                    1.387549   \n",
       "12284                                   0.363051   \n",
       "...                                          ...   \n",
       "10592                                  -0.035004   \n",
       "4846                                   -0.207793   \n",
       "8031                                    0.367658   \n",
       "7299                                    0.451559   \n",
       "10274                                   0.001308   \n",
       "\n",
       "       Skewness of the integrated profile  Mean of the DM-SNR curve  \\\n",
       "4023                             0.824544                  2.300167   \n",
       "1362                            -0.378919                  2.831104   \n",
       "6661                             0.068632                  6.429766   \n",
       "7532                             2.041650                 53.247492   \n",
       "12284                            0.190178                  2.012542   \n",
       "...                                   ...                       ...   \n",
       "10592                           -0.248729                  7.382943   \n",
       "4846                            -0.094389                  2.980769   \n",
       "8031                             0.446124                  1.704849   \n",
       "7299                             0.261429                  2.708194   \n",
       "10274                            0.558659                  2.787625   \n",
       "\n",
       "       Standard deviation of the DM-SNR curve  \\\n",
       "4023                                18.388670   \n",
       "1362                                15.450046   \n",
       "6661                                34.034326   \n",
       "7532                                71.893739   \n",
       "12284                               13.106549   \n",
       "...                                       ...   \n",
       "10592                               31.274230   \n",
       "4846                                17.220500   \n",
       "8031                                15.672570   \n",
       "7299                                19.834288   \n",
       "10274                               22.710223   \n",
       "\n",
       "       Excess kurtosis of the DM-SNR curve  Skewness of the DM-SNR curve  \n",
       "4023                              9.215088                     92.004504  \n",
       "1362                              7.803412                     82.446000  \n",
       "6661                              5.459486                     29.390188  \n",
       "7532                              0.890793                     -0.742236  \n",
       "12284                            10.479210                    148.230161  \n",
       "...                                    ...                           ...  \n",
       "10592                             4.982387                     25.803202  \n",
       "4846                              7.931036                     76.966708  \n",
       "8031                             11.741040                    156.239404  \n",
       "7299                              8.078449                     69.089674  \n",
       "10274                             8.679637                     77.288904  \n",
       "\n",
       "[5378 rows x 8 columns]"
      ]
     },
     "execution_count": 99,
     "metadata": {},
     "output_type": "execute_result"
    }
   ],
   "source": [
    "x_train"
   ]
  },
  {
   "cell_type": "code",
   "execution_count": 100,
   "metadata": {},
   "outputs": [
    {
     "data": {
      "text/html": [
       "<div>\n",
       "<style scoped>\n",
       "    .dataframe tbody tr th:only-of-type {\n",
       "        vertical-align: middle;\n",
       "    }\n",
       "\n",
       "    .dataframe tbody tr th {\n",
       "        vertical-align: top;\n",
       "    }\n",
       "\n",
       "    .dataframe thead th {\n",
       "        text-align: right;\n",
       "    }\n",
       "</style>\n",
       "<table border=\"1\" class=\"dataframe\">\n",
       "  <thead>\n",
       "    <tr style=\"text-align: right;\">\n",
       "      <th></th>\n",
       "      <th>Mean of the integrated profile</th>\n",
       "      <th>Standard deviation of the integrated profile</th>\n",
       "      <th>Excess kurtosis of the integrated profile</th>\n",
       "      <th>Skewness of the integrated profile</th>\n",
       "      <th>Mean of the DM-SNR curve</th>\n",
       "      <th>Standard deviation of the DM-SNR curve</th>\n",
       "      <th>Excess kurtosis of the DM-SNR curve</th>\n",
       "      <th>Skewness of the DM-SNR curve</th>\n",
       "    </tr>\n",
       "  </thead>\n",
       "  <tbody>\n",
       "    <tr>\n",
       "      <th>3532</th>\n",
       "      <td>85.023438</td>\n",
       "      <td>39.784667</td>\n",
       "      <td>0.544761</td>\n",
       "      <td>1.451091</td>\n",
       "      <td>1.676421</td>\n",
       "      <td>12.211821</td>\n",
       "      <td>11.428458</td>\n",
       "      <td>179.017637</td>\n",
       "    </tr>\n",
       "    <tr>\n",
       "      <th>7856</th>\n",
       "      <td>125.718750</td>\n",
       "      <td>45.916183</td>\n",
       "      <td>0.194231</td>\n",
       "      <td>0.124038</td>\n",
       "      <td>12.480769</td>\n",
       "      <td>41.765636</td>\n",
       "      <td>3.525514</td>\n",
       "      <td>11.865579</td>\n",
       "    </tr>\n",
       "    <tr>\n",
       "      <th>4651</th>\n",
       "      <td>113.632812</td>\n",
       "      <td>48.850037</td>\n",
       "      <td>0.390754</td>\n",
       "      <td>-0.107216</td>\n",
       "      <td>3.948997</td>\n",
       "      <td>25.044507</td>\n",
       "      <td>7.208089</td>\n",
       "      <td>54.588367</td>\n",
       "    </tr>\n",
       "    <tr>\n",
       "      <th>10607</th>\n",
       "      <td>122.570312</td>\n",
       "      <td>39.108360</td>\n",
       "      <td>0.182605</td>\n",
       "      <td>0.604099</td>\n",
       "      <td>1.201505</td>\n",
       "      <td>14.655932</td>\n",
       "      <td>13.197411</td>\n",
       "      <td>183.836291</td>\n",
       "    </tr>\n",
       "    <tr>\n",
       "      <th>10157</th>\n",
       "      <td>96.921875</td>\n",
       "      <td>46.732886</td>\n",
       "      <td>0.338692</td>\n",
       "      <td>0.266694</td>\n",
       "      <td>2.306856</td>\n",
       "      <td>16.734659</td>\n",
       "      <td>8.876670</td>\n",
       "      <td>90.836580</td>\n",
       "    </tr>\n",
       "    <tr>\n",
       "      <th>...</th>\n",
       "      <td>...</td>\n",
       "      <td>...</td>\n",
       "      <td>...</td>\n",
       "      <td>...</td>\n",
       "      <td>...</td>\n",
       "      <td>...</td>\n",
       "      <td>...</td>\n",
       "      <td>...</td>\n",
       "    </tr>\n",
       "    <tr>\n",
       "      <th>7538</th>\n",
       "      <td>111.781250</td>\n",
       "      <td>49.141686</td>\n",
       "      <td>0.060100</td>\n",
       "      <td>-0.071402</td>\n",
       "      <td>2.544314</td>\n",
       "      <td>18.475797</td>\n",
       "      <td>8.529841</td>\n",
       "      <td>81.072589</td>\n",
       "    </tr>\n",
       "    <tr>\n",
       "      <th>9632</th>\n",
       "      <td>143.062500</td>\n",
       "      <td>47.954691</td>\n",
       "      <td>-0.072039</td>\n",
       "      <td>0.296131</td>\n",
       "      <td>2.693980</td>\n",
       "      <td>19.572522</td>\n",
       "      <td>9.047343</td>\n",
       "      <td>90.582234</td>\n",
       "    </tr>\n",
       "    <tr>\n",
       "      <th>4021</th>\n",
       "      <td>83.242188</td>\n",
       "      <td>32.352972</td>\n",
       "      <td>1.123728</td>\n",
       "      <td>5.007563</td>\n",
       "      <td>6.806020</td>\n",
       "      <td>33.948700</td>\n",
       "      <td>5.190255</td>\n",
       "      <td>26.486046</td>\n",
       "    </tr>\n",
       "    <tr>\n",
       "      <th>9270</th>\n",
       "      <td>136.296875</td>\n",
       "      <td>49.316636</td>\n",
       "      <td>-0.122444</td>\n",
       "      <td>-0.089395</td>\n",
       "      <td>98.731605</td>\n",
       "      <td>96.065765</td>\n",
       "      <td>0.164935</td>\n",
       "      <td>-1.697896</td>\n",
       "    </tr>\n",
       "    <tr>\n",
       "      <th>11817</th>\n",
       "      <td>116.390625</td>\n",
       "      <td>43.048888</td>\n",
       "      <td>0.237915</td>\n",
       "      <td>0.417837</td>\n",
       "      <td>2.434783</td>\n",
       "      <td>14.883772</td>\n",
       "      <td>9.280976</td>\n",
       "      <td>109.211722</td>\n",
       "    </tr>\n",
       "  </tbody>\n",
       "</table>\n",
       "<p>3895 rows × 8 columns</p>\n",
       "</div>"
      ],
      "text/plain": [
       "       Mean of the integrated profile  \\\n",
       "3532                        85.023438   \n",
       "7856                       125.718750   \n",
       "4651                       113.632812   \n",
       "10607                      122.570312   \n",
       "10157                       96.921875   \n",
       "...                               ...   \n",
       "7538                       111.781250   \n",
       "9632                       143.062500   \n",
       "4021                        83.242188   \n",
       "9270                       136.296875   \n",
       "11817                      116.390625   \n",
       "\n",
       "       Standard deviation of the integrated profile  \\\n",
       "3532                                      39.784667   \n",
       "7856                                      45.916183   \n",
       "4651                                      48.850037   \n",
       "10607                                     39.108360   \n",
       "10157                                     46.732886   \n",
       "...                                             ...   \n",
       "7538                                      49.141686   \n",
       "9632                                      47.954691   \n",
       "4021                                      32.352972   \n",
       "9270                                      49.316636   \n",
       "11817                                     43.048888   \n",
       "\n",
       "       Excess kurtosis of the integrated profile  \\\n",
       "3532                                    0.544761   \n",
       "7856                                    0.194231   \n",
       "4651                                    0.390754   \n",
       "10607                                   0.182605   \n",
       "10157                                   0.338692   \n",
       "...                                          ...   \n",
       "7538                                    0.060100   \n",
       "9632                                   -0.072039   \n",
       "4021                                    1.123728   \n",
       "9270                                   -0.122444   \n",
       "11817                                   0.237915   \n",
       "\n",
       "       Skewness of the integrated profile  Mean of the DM-SNR curve  \\\n",
       "3532                             1.451091                  1.676421   \n",
       "7856                             0.124038                 12.480769   \n",
       "4651                            -0.107216                  3.948997   \n",
       "10607                            0.604099                  1.201505   \n",
       "10157                            0.266694                  2.306856   \n",
       "...                                   ...                       ...   \n",
       "7538                            -0.071402                  2.544314   \n",
       "9632                             0.296131                  2.693980   \n",
       "4021                             5.007563                  6.806020   \n",
       "9270                            -0.089395                 98.731605   \n",
       "11817                            0.417837                  2.434783   \n",
       "\n",
       "       Standard deviation of the DM-SNR curve  \\\n",
       "3532                                12.211821   \n",
       "7856                                41.765636   \n",
       "4651                                25.044507   \n",
       "10607                               14.655932   \n",
       "10157                               16.734659   \n",
       "...                                       ...   \n",
       "7538                                18.475797   \n",
       "9632                                19.572522   \n",
       "4021                                33.948700   \n",
       "9270                                96.065765   \n",
       "11817                               14.883772   \n",
       "\n",
       "       Excess kurtosis of the DM-SNR curve  Skewness of the DM-SNR curve  \n",
       "3532                             11.428458                    179.017637  \n",
       "7856                              3.525514                     11.865579  \n",
       "4651                              7.208089                     54.588367  \n",
       "10607                            13.197411                    183.836291  \n",
       "10157                             8.876670                     90.836580  \n",
       "...                                    ...                           ...  \n",
       "7538                              8.529841                     81.072589  \n",
       "9632                              9.047343                     90.582234  \n",
       "4021                              5.190255                     26.486046  \n",
       "9270                              0.164935                     -1.697896  \n",
       "11817                             9.280976                    109.211722  \n",
       "\n",
       "[3895 rows x 8 columns]"
      ]
     },
     "execution_count": 100,
     "metadata": {},
     "output_type": "execute_result"
    }
   ],
   "source": [
    "x_test"
   ]
  },
  {
   "cell_type": "code",
   "execution_count": 101,
   "metadata": {},
   "outputs": [
    {
     "data": {
      "text/plain": [
       "4023     0.0\n",
       "1362     0.0\n",
       "6661     0.0\n",
       "7532     1.0\n",
       "12284    0.0\n",
       "        ... \n",
       "10592    0.0\n",
       "4846     0.0\n",
       "8031     0.0\n",
       "7299     0.0\n",
       "10274    0.0\n",
       "Name: target_class, Length: 5378, dtype: float64"
      ]
     },
     "execution_count": 101,
     "metadata": {},
     "output_type": "execute_result"
    }
   ],
   "source": [
    "y_train"
   ]
  },
  {
   "cell_type": "code",
   "execution_count": 102,
   "metadata": {},
   "outputs": [],
   "source": [
    "from sklearn.preprocessing import StandardScaler"
   ]
  },
  {
   "cell_type": "code",
   "execution_count": 103,
   "metadata": {},
   "outputs": [],
   "source": [
    "sc=StandardScaler()"
   ]
  },
  {
   "cell_type": "code",
   "execution_count": 104,
   "metadata": {},
   "outputs": [],
   "source": [
    "scaled_xtrain=sc.fit_transform(x_train)"
   ]
  },
  {
   "cell_type": "code",
   "execution_count": 105,
   "metadata": {},
   "outputs": [
    {
     "data": {
      "text/plain": [
       "array([[ 0.22263356, -0.64470666, -0.30039386, ..., -0.40565453,\n",
       "         0.20095403, -0.12378062],\n",
       "       [ 0.40806135,  1.50914309, -0.43821392, ..., -0.55641633,\n",
       "        -0.11177835, -0.2141687 ],\n",
       "       [ 0.34363049,  0.23098214, -0.40227409, ...,  0.39702296,\n",
       "        -0.63103441, -0.71588036],\n",
       "       ...,\n",
       "       [-0.26800898, -0.3575023 , -0.10879995, ..., -0.54500007,\n",
       "         0.76053498,  0.48364383],\n",
       "       [-0.32548252,  0.49736757, -0.03071973, ..., -0.33148923,\n",
       "        -0.05084853, -0.34047012],\n",
       "       [ 1.02877559, -0.33001171, -0.4497368 , ..., -0.18394357,\n",
       "         0.08233409, -0.26293575]])"
      ]
     },
     "execution_count": 105,
     "metadata": {},
     "output_type": "execute_result"
    }
   ],
   "source": [
    "scaled_xtrain"
   ]
  },
  {
   "cell_type": "code",
   "execution_count": 106,
   "metadata": {},
   "outputs": [],
   "source": [
    "scaled_xtest=sc.fit_transform(x_test)"
   ]
  },
  {
   "cell_type": "code",
   "execution_count": 107,
   "metadata": {},
   "outputs": [],
   "source": [
    "from sklearn.svm import SVC"
   ]
  },
  {
   "cell_type": "code",
   "execution_count": 108,
   "metadata": {},
   "outputs": [],
   "source": [
    "svm_model=SVC()"
   ]
  },
  {
   "cell_type": "code",
   "execution_count": 97,
   "metadata": {},
   "outputs": [],
   "source": [
    "from sklearn.metrics import accuracy_score, classification_report"
   ]
  },
  {
   "cell_type": "code",
   "execution_count": 88,
   "metadata": {},
   "outputs": [],
   "source": [
    "# Extracting features (X) and target variable (y)\n",
    "X = df.drop(columns=['target_class'])  # Features\n",
    "y = df['target_class']  # Target variable"
   ]
  },
  {
   "cell_type": "code",
   "execution_count": 89,
   "metadata": {},
   "outputs": [],
   "source": [
    "X.fillna(X.mean(), inplace=True)"
   ]
  },
  {
   "cell_type": "code",
   "execution_count": 90,
   "metadata": {},
   "outputs": [],
   "source": [
    "X_train, X_test, y_train, y_test = train_test_split(X, y, test_size=0.2, random_state=42)"
   ]
  },
  {
   "cell_type": "code",
   "execution_count": 91,
   "metadata": {},
   "outputs": [],
   "source": [
    "scaler = StandardScaler()\n",
    "X_train_scaled = scaler.fit_transform(X_train)\n",
    "X_test_scaled = scaler.transform(X_test)"
   ]
  },
  {
   "cell_type": "code",
   "execution_count": 92,
   "metadata": {},
   "outputs": [
    {
     "data": {
      "text/html": [
       "<style>#sk-container-id-1 {color: black;}#sk-container-id-1 pre{padding: 0;}#sk-container-id-1 div.sk-toggleable {background-color: white;}#sk-container-id-1 label.sk-toggleable__label {cursor: pointer;display: block;width: 100%;margin-bottom: 0;padding: 0.3em;box-sizing: border-box;text-align: center;}#sk-container-id-1 label.sk-toggleable__label-arrow:before {content: \"▸\";float: left;margin-right: 0.25em;color: #696969;}#sk-container-id-1 label.sk-toggleable__label-arrow:hover:before {color: black;}#sk-container-id-1 div.sk-estimator:hover label.sk-toggleable__label-arrow:before {color: black;}#sk-container-id-1 div.sk-toggleable__content {max-height: 0;max-width: 0;overflow: hidden;text-align: left;background-color: #f0f8ff;}#sk-container-id-1 div.sk-toggleable__content pre {margin: 0.2em;color: black;border-radius: 0.25em;background-color: #f0f8ff;}#sk-container-id-1 input.sk-toggleable__control:checked~div.sk-toggleable__content {max-height: 200px;max-width: 100%;overflow: auto;}#sk-container-id-1 input.sk-toggleable__control:checked~label.sk-toggleable__label-arrow:before {content: \"▾\";}#sk-container-id-1 div.sk-estimator input.sk-toggleable__control:checked~label.sk-toggleable__label {background-color: #d4ebff;}#sk-container-id-1 div.sk-label input.sk-toggleable__control:checked~label.sk-toggleable__label {background-color: #d4ebff;}#sk-container-id-1 input.sk-hidden--visually {border: 0;clip: rect(1px 1px 1px 1px);clip: rect(1px, 1px, 1px, 1px);height: 1px;margin: -1px;overflow: hidden;padding: 0;position: absolute;width: 1px;}#sk-container-id-1 div.sk-estimator {font-family: monospace;background-color: #f0f8ff;border: 1px dotted black;border-radius: 0.25em;box-sizing: border-box;margin-bottom: 0.5em;}#sk-container-id-1 div.sk-estimator:hover {background-color: #d4ebff;}#sk-container-id-1 div.sk-parallel-item::after {content: \"\";width: 100%;border-bottom: 1px solid gray;flex-grow: 1;}#sk-container-id-1 div.sk-label:hover label.sk-toggleable__label {background-color: #d4ebff;}#sk-container-id-1 div.sk-serial::before {content: \"\";position: absolute;border-left: 1px solid gray;box-sizing: border-box;top: 0;bottom: 0;left: 50%;z-index: 0;}#sk-container-id-1 div.sk-serial {display: flex;flex-direction: column;align-items: center;background-color: white;padding-right: 0.2em;padding-left: 0.2em;position: relative;}#sk-container-id-1 div.sk-item {position: relative;z-index: 1;}#sk-container-id-1 div.sk-parallel {display: flex;align-items: stretch;justify-content: center;background-color: white;position: relative;}#sk-container-id-1 div.sk-item::before, #sk-container-id-1 div.sk-parallel-item::before {content: \"\";position: absolute;border-left: 1px solid gray;box-sizing: border-box;top: 0;bottom: 0;left: 50%;z-index: -1;}#sk-container-id-1 div.sk-parallel-item {display: flex;flex-direction: column;z-index: 1;position: relative;background-color: white;}#sk-container-id-1 div.sk-parallel-item:first-child::after {align-self: flex-end;width: 50%;}#sk-container-id-1 div.sk-parallel-item:last-child::after {align-self: flex-start;width: 50%;}#sk-container-id-1 div.sk-parallel-item:only-child::after {width: 0;}#sk-container-id-1 div.sk-dashed-wrapped {border: 1px dashed gray;margin: 0 0.4em 0.5em 0.4em;box-sizing: border-box;padding-bottom: 0.4em;background-color: white;}#sk-container-id-1 div.sk-label label {font-family: monospace;font-weight: bold;display: inline-block;line-height: 1.2em;}#sk-container-id-1 div.sk-label-container {text-align: center;}#sk-container-id-1 div.sk-container {/* jupyter's `normalize.less` sets `[hidden] { display: none; }` but bootstrap.min.css set `[hidden] { display: none !important; }` so we also need the `!important` here to be able to override the default hidden behavior on the sphinx rendered scikit-learn.org. See: https://github.com/scikit-learn/scikit-learn/issues/21755 */display: inline-block !important;position: relative;}#sk-container-id-1 div.sk-text-repr-fallback {display: none;}</style><div id=\"sk-container-id-1\" class=\"sk-top-container\"><div class=\"sk-text-repr-fallback\"><pre>SVC()</pre><b>In a Jupyter environment, please rerun this cell to show the HTML representation or trust the notebook. <br />On GitHub, the HTML representation is unable to render, please try loading this page with nbviewer.org.</b></div><div class=\"sk-container\" hidden><div class=\"sk-item\"><div class=\"sk-estimator sk-toggleable\"><input class=\"sk-toggleable__control sk-hidden--visually\" id=\"sk-estimator-id-1\" type=\"checkbox\" checked><label for=\"sk-estimator-id-1\" class=\"sk-toggleable__label sk-toggleable__label-arrow\">SVC</label><div class=\"sk-toggleable__content\"><pre>SVC()</pre></div></div></div></div></div>"
      ],
      "text/plain": [
       "SVC()"
      ]
     },
     "execution_count": 92,
     "metadata": {},
     "output_type": "execute_result"
    }
   ],
   "source": [
    "svm_model = SVC()\n",
    "svm_model.fit(X_train_scaled, y_train)  \n"
   ]
  },
  {
   "cell_type": "code",
   "execution_count": 93,
   "metadata": {},
   "outputs": [],
   "source": [
    "y_pred_train = svm_model.predict(X_train_scaled)\n",
    "y_pred_test = svm_model.predict(X_test_scaled)"
   ]
  },
  {
   "cell_type": "code",
   "execution_count": 94,
   "metadata": {},
   "outputs": [],
   "source": [
    "train_accuracy = accuracy_score(y_train, y_pred_train)\n",
    "test_accuracy = accuracy_score(y_test, y_pred_test)\n"
   ]
  },
  {
   "cell_type": "code",
   "execution_count": 95,
   "metadata": {},
   "outputs": [
    {
     "data": {
      "text/plain": [
       "0.9788352655702346"
      ]
     },
     "execution_count": 95,
     "metadata": {},
     "output_type": "execute_result"
    }
   ],
   "source": [
    "train_accuracy"
   ]
  },
  {
   "cell_type": "code",
   "execution_count": 96,
   "metadata": {},
   "outputs": [
    {
     "name": "stdout",
     "output_type": "stream",
     "text": [
      "Training Accuracy: 0.9788352655702346\n",
      "Testing Accuracy: 0.9800539083557952\n",
      "\n",
      "Classification Report on Testing Data:\n",
      "              precision    recall  f1-score   support\n",
      "\n",
      "         0.0       0.98      1.00      0.99      1692\n",
      "         1.0       0.94      0.82      0.88       163\n",
      "\n",
      "    accuracy                           0.98      1855\n",
      "   macro avg       0.96      0.91      0.93      1855\n",
      "weighted avg       0.98      0.98      0.98      1855\n",
      "\n"
     ]
    }
   ],
   "source": [
    "print(\"Training Accuracy:\", train_accuracy)\n",
    "print(\"Testing Accuracy:\", test_accuracy)\n",
    "print(\"\\nClassification Report on Testing Data:\")\n",
    "print(classification_report(y_test, y_pred_test))"
   ]
  }
 ],
 "metadata": {
  "colab": {
   "provenance": []
  },
  "kernelspec": {
   "display_name": "Python 3 (ipykernel)",
   "language": "python",
   "name": "python3"
  },
  "language_info": {
   "codemirror_mode": {
    "name": "ipython",
    "version": 3
   },
   "file_extension": ".py",
   "mimetype": "text/x-python",
   "name": "python",
   "nbconvert_exporter": "python",
   "pygments_lexer": "ipython3",
   "version": "3.11.5"
  }
 },
 "nbformat": 4,
 "nbformat_minor": 1
}
